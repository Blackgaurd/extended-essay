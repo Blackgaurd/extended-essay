{
 "cells": [
  {
   "cell_type": "code",
   "execution_count": 1,
   "metadata": {},
   "outputs": [],
   "source": [
    "%matplotlib inline\n",
    "\n",
    "import matplotlib"
   ]
  },
  {
   "cell_type": "markdown",
   "metadata": {},
   "source": [
    "### Decision Tree"
   ]
  },
  {
   "cell_type": "code",
   "execution_count": 2,
   "metadata": {},
   "outputs": [
    {
     "name": "stdout",
     "output_type": "stream",
     "text": [
      "Loading load_iris from cache\n"
     ]
    }
   ],
   "source": [
    "from models import decision_tree\n",
    "\n",
    "decision_tree.run(\"iris\")"
   ]
  },
  {
   "cell_type": "markdown",
   "metadata": {},
   "source": [
    "### Random Forest"
   ]
  },
  {
   "cell_type": "code",
   "execution_count": 3,
   "metadata": {},
   "outputs": [
    {
     "name": "stdout",
     "output_type": "stream",
     "text": [
      "Loading load_iris from cache\n"
     ]
    }
   ],
   "source": [
    "from models import random_forest\n",
    "\n",
    "random_forest.run(\"iris\")"
   ]
  },
  {
   "cell_type": "markdown",
   "metadata": {},
   "source": [
    "### Multilayer Perceptron"
   ]
  },
  {
   "cell_type": "code",
   "execution_count": 4,
   "metadata": {},
   "outputs": [
    {
     "name": "stdout",
     "output_type": "stream",
     "text": [
      "Loading load_iris from cache\n",
      "Epoch 1/10\n",
      "4/4 [==============================] - 1s 7ms/step - loss: 1.1219 - accuracy: 0.3417\n",
      "Epoch 2/10\n",
      "4/4 [==============================] - 0s 6ms/step - loss: 1.1146 - accuracy: 0.3167\n",
      "Epoch 3/10\n",
      "4/4 [==============================] - 0s 10ms/step - loss: 1.1088 - accuracy: 0.2917\n",
      "Epoch 4/10\n",
      "4/4 [==============================] - 0s 6ms/step - loss: 1.1036 - accuracy: 0.2500\n",
      "Epoch 5/10\n",
      "4/4 [==============================] - 0s 5ms/step - loss: 1.0981 - accuracy: 0.2917\n",
      "Epoch 6/10\n",
      "4/4 [==============================] - 0s 6ms/step - loss: 1.0946 - accuracy: 0.3250\n",
      "Epoch 7/10\n",
      "4/4 [==============================] - 0s 5ms/step - loss: 1.0915 - accuracy: 0.3250\n",
      "Epoch 8/10\n",
      "4/4 [==============================] - 0s 5ms/step - loss: 1.0886 - accuracy: 0.3250\n",
      "Epoch 9/10\n",
      "4/4 [==============================] - 0s 6ms/step - loss: 1.0853 - accuracy: 0.3333\n",
      "Epoch 10/10\n",
      "4/4 [==============================] - 0s 5ms/step - loss: 1.0828 - accuracy: 0.3333\n"
     ]
    }
   ],
   "source": [
    "import os\n",
    "os.environ['TF_CPP_MIN_LOG_LEVEL'] = '2' \n",
    "\n",
    "from models import multilayer_perceptron\n",
    "\n",
    "multilayer_perceptron.run(\"iris\")"
   ]
  },
  {
   "cell_type": "markdown",
   "metadata": {},
   "source": [
    "### Evolutionary Decision Tree"
   ]
  },
  {
   "cell_type": "code",
   "execution_count": 5,
   "metadata": {},
   "outputs": [
    {
     "name": "stdout",
     "output_type": "stream",
     "text": [
      "Loading load_iris from cache\n",
      "Generation 10/50\n",
      "Average fitness: 0.4408\n",
      "Average accuracy: 0.7753\n",
      "Tree depths:\n",
      "- max    : 12\n",
      "- min    : 5\n",
      "- average: 5.69\n",
      "- median : 5.00\n",
      "- std    : 1.45\n",
      "\n",
      "Generation 20/50\n",
      "Average fitness: 0.6491\n",
      "Average accuracy: 0.8712\n",
      "Tree depths:\n",
      "- max    : 10\n",
      "- min    : 5\n",
      "- average: 5.47\n",
      "- median : 5.00\n",
      "- std    : 1.07\n",
      "\n",
      "Generation 30/50\n",
      "Average fitness: 0.2881\n",
      "Average accuracy: 0.8446\n",
      "Tree depths:\n",
      "- max    : 16\n",
      "- min    : 5\n",
      "- average: 6.02\n",
      "- median : 5.00\n",
      "- std    : 1.93\n",
      "\n",
      "Generation 40/50\n",
      "Average fitness: 0.5608\n",
      "Average accuracy: 0.8809\n",
      "Tree depths:\n",
      "- max    : 12\n",
      "- min    : 5\n",
      "- average: 5.60\n",
      "- median : 5.00\n",
      "- std    : 1.41\n",
      "\n",
      "Generation 50/50\n",
      "Average fitness: 0.4678\n",
      "Average accuracy: 0.8809\n",
      "Tree depths:\n",
      "- max    : 17\n",
      "- min    : 5\n",
      "- average: 5.61\n",
      "- median : 5.00\n",
      "- std    : 1.70\n",
      "\n"
     ]
    }
   ],
   "source": [
    "from models import edt_classifier\n",
    "\n",
    "edt_classifier.run(\"iris\")"
   ]
  }
 ],
 "metadata": {
  "interpreter": {
   "hash": "f23266c27308500f6f43300a8b467319b8aa5e2e6e896de8c81daa24c28386d4"
  },
  "kernelspec": {
   "display_name": "Python 3.8.10 ('venv': venv)",
   "language": "python",
   "name": "python3"
  },
  "language_info": {
   "codemirror_mode": {
    "name": "ipython",
    "version": 3
   },
   "file_extension": ".py",
   "mimetype": "text/x-python",
   "name": "python",
   "nbconvert_exporter": "python",
   "pygments_lexer": "ipython3",
   "version": "3.8.10"
  },
  "orig_nbformat": 4
 },
 "nbformat": 4,
 "nbformat_minor": 2
}
